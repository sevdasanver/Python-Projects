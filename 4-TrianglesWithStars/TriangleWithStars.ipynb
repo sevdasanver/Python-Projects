{
 "cells": [
  {
   "cell_type": "code",
   "execution_count": null,
   "metadata": {
    "colab": {
     "base_uri": "https://localhost:8080/"
    },
    "id": "JB7llMsxuA6-",
    "outputId": "65935dd7-4692-4f93-c828-fd04f89cde9f"
   },
   "outputs": [
    {
     "name": "stdout",
     "output_type": "stream",
     "text": [
      "Solution with nested for loop:\n",
      "*\n",
      "**\n",
      "***\n",
      "****\n",
      "*****\n",
      "******\n",
      "\n",
      "Solution with one for loop: \n",
      "*\n",
      "**\n",
      "***\n",
      "****\n",
      "*****\n",
      "******\n"
     ]
    }
   ],
   "source": [
    "#We will get the same results with nested for loop and one for loop\n",
    "rows = 6\n",
    "print(\"Solution with nested for loop:\")\n",
    "for i in range(0, rows):\n",
    "    for j in range(0, i + 1):\n",
    "        print(\"*\", end=\"\")\n",
    "    print()\n",
    "\n",
    "print(\"\\nSolution with one for loop: \")\n",
    "for i in range(1,rows+1):\n",
    "  print(\"*\" * i)"
   ]
  },
  {
   "cell_type": "code",
   "execution_count": null,
   "metadata": {
    "colab": {
     "base_uri": "https://localhost:8080/"
    },
    "id": "x0Na8XuEKXye",
    "outputId": "77d6c1f1-bfb1-45a8-f7b9-19683475b81f"
   },
   "outputs": [
    {
     "name": "stdout",
     "output_type": "stream",
     "text": [
      "Solution with nested for loop\n",
      "      *\n",
      "     **\n",
      "    ***\n",
      "   ****\n",
      "  *****\n",
      " ******\n",
      "\n",
      "Solution with one for loop\n",
      "     *\n",
      "    **\n",
      "   ***\n",
      "  ****\n",
      " *****\n",
      "******\n"
     ]
    }
   ],
   "source": [
    "rows = 6\n",
    "print(\"Solution with nested for loop\")\n",
    "for i in range(0, rows):\n",
    "  for j in range(0, i+1):\n",
    "    if j == 0:\n",
    "      print(\" \"* (rows-i) + \"*\", end=\"\")\n",
    "    else:\n",
    "      print(\"*\", end=\"\")\n",
    "  print()\n",
    "\n",
    "print(\"\\nSolution with one for loop\")\n",
    "for i in range(1, rows+1):\n",
    "  print(\" \"* (rows-i) + \"*\"*i)"
   ]
  },
  {
   "cell_type": "code",
   "execution_count": null,
   "metadata": {
    "colab": {
     "base_uri": "https://localhost:8080/"
    },
    "id": "hLslIFlrKOtt",
    "outputId": "2d299d72-fee4-40d4-b430-0e54dc55b4b2"
   },
   "outputs": [
    {
     "name": "stdout",
     "output_type": "stream",
     "text": [
      "Solution with nested for loop\n",
      "******\n",
      "*****\n",
      "****\n",
      "***\n",
      "**\n",
      "*\n",
      "\n",
      "Solution with one for loop\n",
      "******\n",
      "*****\n",
      "****\n",
      "***\n",
      "**\n",
      "*\n"
     ]
    }
   ],
   "source": [
    "rows = 6\n",
    "print(\"Solution with nested for loop\")\n",
    "for i in range(rows, 0, -1):\n",
    "    for j in range(0, i):\n",
    "        print(\"*\", end=\"\")\n",
    "    print()\n",
    "\n",
    "print(\"\\nSolution with one for loop\")\n",
    "for i in range(rows, 0, -1):\n",
    "    print (\"*\" * i)"
   ]
  },
  {
   "cell_type": "code",
   "execution_count": null,
   "metadata": {
    "colab": {
     "base_uri": "https://localhost:8080/"
    },
    "id": "IpsSr8p5KVNU",
    "outputId": "644a184b-83dc-4ac0-bc9f-eb5eb575e7d0"
   },
   "outputs": [
    {
     "name": "stdout",
     "output_type": "stream",
     "text": [
      "Solution with nested for loop\n",
      "******\n",
      " *****\n",
      "  ****\n",
      "   ***\n",
      "    **\n",
      "     *\n",
      "\n",
      "Solution with one for loop\n",
      "******\n",
      " *****\n",
      "  ****\n",
      "   ***\n",
      "    **\n",
      "     *\n"
     ]
    }
   ],
   "source": [
    "rows = 6\n",
    "print(\"Solution with nested for loop\")\n",
    "for i in range(rows, 0, -1):\n",
    "  for j in range(0, i):\n",
    "    if j == 0:\n",
    "      print(\" \"* (rows-i) + \"*\", end=\"\")\n",
    "    else:\n",
    "      print(\"*\", end=\"\")\n",
    "  print()\n",
    "\n",
    "print(\"\\nSolution with one for loop\")\n",
    "for i in range(rows, 0, -1):\n",
    "  print(\" \"* (rows-i) + \"*\"*i)"
   ]
  },
  {
   "cell_type": "code",
   "execution_count": null,
   "metadata": {
    "colab": {
     "base_uri": "https://localhost:8080/"
    },
    "id": "e2xxJWJiKgqx",
    "outputId": "192ddeac-c15f-4af8-f0c5-5da3cf367805"
   },
   "outputs": [
    {
     "name": "stdout",
     "output_type": "stream",
     "text": [
      "      * \n",
      "     * * \n",
      "    * * * \n",
      "   * * * * \n",
      "  * * * * * \n",
      " * * * * * * \n"
     ]
    }
   ],
   "source": [
    "for i in range(6):\n",
    "    for k in range(-6, -i):\n",
    "        print(\" \", end=\"\")\n",
    "    for j in range(i+1):\n",
    "        print(\"* \", end=\"\")\n",
    "    print()"
   ]
  },
  {
   "cell_type": "code",
   "execution_count": null,
   "metadata": {
    "colab": {
     "base_uri": "https://localhost:8080/"
    },
    "id": "NBXSmmnxKnAG",
    "outputId": "8b87c144-fadb-4d88-ec28-4a9ce2bd0cb7"
   },
   "outputs": [
    {
     "name": "stdout",
     "output_type": "stream",
     "text": [
      "solution with nested for\n",
      "      **\n",
      "     ****\n",
      "    ******\n",
      "   ********\n",
      "  **********\n",
      " ************\n",
      "\n",
      "solution with one for\n",
      "     **\n",
      "    ****\n",
      "   ******\n",
      "  ********\n",
      " **********\n",
      "************\n"
     ]
    }
   ],
   "source": [
    "rows = 6\n",
    "print(\"solution with nested for\")\n",
    "for i in range(0, rows):\n",
    "  for j in range(0, i+1):\n",
    "    if j == 0:\n",
    "      print(\" \"* (rows-i) + \"*\"*2, end=\"\")\n",
    "    else:\n",
    "      print(\"*\"*2, end=\"\")\n",
    "  print()\n",
    "\n",
    "print(\"\\nsolution with one for\")\n",
    "for i in range(1, rows+1):\n",
    "  print(\" \"* (rows-i) + \"*\"*i*2)"
   ]
  },
  {
   "cell_type": "code",
   "execution_count": null,
   "metadata": {
    "colab": {
     "base_uri": "https://localhost:8080/"
    },
    "id": "r_YF7ziTNplP",
    "outputId": "b46eb210-1003-4fc6-a79d-7577c1a158bb"
   },
   "outputs": [
    {
     "name": "stdout",
     "output_type": "stream",
     "text": [
      "solution with nested for\n",
      "************\n",
      " **********\n",
      "  ********\n",
      "   ******\n",
      "    ****\n",
      "     **\n",
      "\n",
      "solution with one for\n",
      "************\n",
      " **********\n",
      "  ********\n",
      "   ******\n",
      "    ****\n",
      "     **\n"
     ]
    }
   ],
   "source": [
    "rows = 6\n",
    "print(\"solution with nested for\")\n",
    "for i in range(rows, 0, -1):\n",
    "  for j in range(0, i):\n",
    "    if j == 0:\n",
    "      print(\" \"* (rows-i) + \"*\"*2, end=\"\")\n",
    "    else:\n",
    "      print(\"*\"*2, end=\"\")\n",
    "  print()\n",
    "\n",
    "print(\"\\nsolution with one for\")\n",
    "for i in range(rows, 0, -1):\n",
    "  print(\" \"* (rows-i) + \"*\"*i*2)"
   ]
  },
  {
   "cell_type": "code",
   "execution_count": null,
   "metadata": {
    "colab": {
     "base_uri": "https://localhost:8080/"
    },
    "id": "uXQTzDPENsTM",
    "outputId": "3cf2132d-4e5c-4366-c9bf-dcbea58cf748"
   },
   "outputs": [
    {
     "name": "stdout",
     "output_type": "stream",
     "text": [
      "\n",
      "solution with one for\n",
      "*          *\n",
      "**        **\n",
      "***      ***\n",
      "****    ****\n",
      "*****  *****\n",
      "************\n"
     ]
    }
   ],
   "source": [
    "rows = 6\n",
    "print(\"\\nsolution with one for\")\n",
    "for i in range(1, rows+1):\n",
    "  print(\"*\" * i + \" \"* ((rows-i)*2) + \"*\"*i)"
   ]
  }
 ],
 "metadata": {
  "colab": {
   "name": "TriangleWithStars.ipynb",
   "provenance": []
  },
  "interpreter": {
   "hash": "aee8b7b246df8f9039afb4144a1f6fd8d2ca17a180786b69acc140d282b71a49"
  },
  "kernelspec": {
   "display_name": "Python 3",
   "language": "python",
   "name": "python3"
  },
  "language_info": {
   "codemirror_mode": {
    "name": "ipython",
    "version": 3
   },
   "file_extension": ".py",
   "mimetype": "text/x-python",
   "name": "python",
   "nbconvert_exporter": "python",
   "pygments_lexer": "ipython3",
   "version": "3.8.8"
  }
 },
 "nbformat": 4,
 "nbformat_minor": 1
}
