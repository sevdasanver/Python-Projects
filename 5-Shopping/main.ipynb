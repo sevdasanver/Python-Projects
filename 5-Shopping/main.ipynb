{
 "cells": [
  {
   "cell_type": "markdown",
   "metadata": {},
   "source": [
    "Let's assume that the HR department of my company asked me to list the items that I need for improving my efficiency. So, I made a list;\n",
    "\"Laptop, Headset, Second monitor, Mousepad, USB drive, External drive\""
   ]
  },
  {
   "cell_type": "code",
   "execution_count": 7,
   "metadata": {},
   "outputs": [
    {
     "name": "stdout",
     "output_type": "stream",
     "text": [
      "['Laptop', 'Headset', 'Second monitor', 'Mousepad', 'USB drive', 'External drive']\n"
     ]
    }
   ],
   "source": [
    "#Create the item_list\n",
    "\n",
    "item_list = ['Laptop', 'Headset', 'Second monitor', 'Mousepad', 'USB drive', 'External drive']\n",
    "print(item_list)"
   ]
  },
  {
   "cell_type": "markdown",
   "metadata": {},
   "source": [
    "It is time to go to purchase. After buying these items, I need to submit the invoices to the finance department. However, I need to keep in mind that the finance department confirmed a budget of 5000dollar. Therefore, I will define my limit as 5000$ and make sure to not exceed it.\n",
    "\n",
    "By the way, I searched for the cheapest options and put them in a dictionary. You can see which item costs how much ;"
   ]
  },
  {
   "cell_type": "code",
   "execution_count": 9,
   "metadata": {},
   "outputs": [],
   "source": [
    "#Assign the spending limit value to a variable called limit\n",
    "\n",
    "limit = 5000\n",
    "\n",
    "\n",
    "#Create a dictionary that contains each item and its price\n",
    "\n",
    "price_sheet = {\n",
    "    \"Laptop\": 1500,\n",
    "    \"Headset\": 100,\n",
    "    \"Second monitor\": 200,\n",
    "    \"Mousepad\" : 50,\n",
    "    \"USB drive\": 70,\n",
    "    \"External drive\": 250\n",
    "    }"
   ]
  },
  {
   "cell_type": "markdown",
   "metadata": {},
   "source": [
    "I will define three functions that will help me during shopping.\n",
    "\n",
    "The first function will create an empty list that will be my shopping cart. Here, I will add the items that I need to buy. Let's define a function for adding items to the cart and removing those items from the item_list."
   ]
  },
  {
   "cell_type": "code",
   "execution_count": 10,
   "metadata": {},
   "outputs": [],
   "source": [
    "#Initialize the cart list\n",
    "cart = []\n",
    "\n",
    "\n",
    "#Define the \"add_to_cart\" function that take the item name and the quantity as an argument\n",
    "\n",
    "def add_to_cart(item, quantity):\n",
    "  cart.append((item,quantity))\n",
    "  item_list.remove(item)\n"
   ]
  },
  {
   "cell_type": "markdown",
   "metadata": {},
   "source": [
    "\n",
    "Define the second function (\"create_invoice\") that will create an invoice. This function should calculate the taxes of each item (18%) and add it to the total amount."
   ]
  },
  {
   "cell_type": "code",
   "execution_count": 11,
   "metadata": {},
   "outputs": [],
   "source": [
    "#Define the \"create_invoice\" function\n",
    "\n",
    "def create_invoice():\n",
    "  total_amount_inc_tax = 0\n",
    "  \n",
    "  for item, quantity in cart:\n",
    "    price = price_sheet[item]\n",
    "    tax = 0.18 * price\n",
    "    total = (tax + price) * quantity\n",
    "    total_amount_inc_tax += total\n",
    "    print('Item: ', item, '\\t', 'Price:', price, '\\t',' Quantity:', quantity,'\\t', 'Tax:', tax, '\\t', 'Total:', total, '\\n' )\n",
    "\n",
    "  print('After the taxes are applied the total amount is:','\\t', total_amount_inc_tax)\n",
    "  return total_amount_inc_tax"
   ]
  },
  {
   "cell_type": "markdown",
   "metadata": {},
   "source": [
    "Define a function for the checkout. The \"checkout\" function should subtract the total amount from the budget and print a statement to inform if the payment was successful."
   ]
  },
  {
   "cell_type": "code",
   "execution_count": 12,
   "metadata": {},
   "outputs": [],
   "source": [
    "#Define the \"checkout\" function\n",
    "\n",
    "def checkout():\n",
    "  global limit\n",
    "  total_amount = create_invoice()\n",
    "  if limit == 0:\n",
    "    print(\"You don't have any budget\")\n",
    "  elif total_amount > limit:\n",
    "    print(\"The amount you have to pay is above the spending limit.You have to drop some items.\")\n",
    "  else:\n",
    "    limit -= total_amount\n",
    "    print(f\"The total amount (include taxes) you've paid is {total_amount}. You have {limit} dollars left.\")"
   ]
  },
  {
   "cell_type": "markdown",
   "metadata": {},
   "source": [
    "Call add_to_chart function and buy your items. Then call checkout function to pay all."
   ]
  },
  {
   "cell_type": "code",
   "execution_count": 13,
   "metadata": {},
   "outputs": [
    {
     "name": "stdout",
     "output_type": "stream",
     "text": [
      "Item:  Laptop \t Price: 1500 \t  Quantity: 1 \t Tax: 270.0 \t Total: 1770.0 \n",
      "\n",
      "Item:  Headset \t Price: 100 \t  Quantity: 8 \t Tax: 18.0 \t Total: 944.0 \n",
      "\n",
      "Item:  Second monitor \t Price: 200 \t  Quantity: 1 \t Tax: 36.0 \t Total: 236.0 \n",
      "\n",
      "Item:  Mousepad \t Price: 50 \t  Quantity: 1 \t Tax: 9.0 \t Total: 59.0 \n",
      "\n",
      "Item:  USB drive \t Price: 70 \t  Quantity: 2 \t Tax: 12.6 \t Total: 165.2 \n",
      "\n",
      "Item:  External drive \t Price: 250 \t  Quantity: 4 \t Tax: 45.0 \t Total: 1180.0 \n",
      "\n",
      "After the taxes are applied the total amount is: \t 4354.2\n",
      "The total amount (include taxes) you've paid is 4354.2. You have 645.8000000000002 dollars left.\n"
     ]
    }
   ],
   "source": [
    "#Call the \"add_to_cart\" function for each item\n",
    " \n",
    "#Add first item to cart\n",
    "add_to_cart(\"Laptop\", 1)\n",
    " \n",
    "#Add second item to cart\n",
    "add_to_cart(\"Headset\", 8)\n",
    " \n",
    "#Add third item to cart\n",
    "add_to_cart(\"Second monitor\", 1)\n",
    " \n",
    "#Add fourth item to cart\n",
    "add_to_cart(\"Mousepad\", 1)\n",
    " \n",
    "#Add fifth item to cart\n",
    "add_to_cart(\"USB drive\", 2)\n",
    " \n",
    "#Add last item to cart\n",
    "add_to_cart(\"External drive\", 4)\n",
    " \n",
    "#Call the created \"checkout\" function to pay for all your items \n",
    "checkout()"
   ]
  }
 ],
 "metadata": {
  "interpreter": {
   "hash": "aee8b7b246df8f9039afb4144a1f6fd8d2ca17a180786b69acc140d282b71a49"
  },
  "kernelspec": {
   "display_name": "Python 3.9.5 64-bit",
   "language": "python",
   "name": "python3"
  },
  "language_info": {
   "codemirror_mode": {
    "name": "ipython",
    "version": 3
   },
   "file_extension": ".py",
   "mimetype": "text/x-python",
   "name": "python",
   "nbconvert_exporter": "python",
   "pygments_lexer": "ipython3",
   "version": "3.9.5"
  },
  "orig_nbformat": 4
 },
 "nbformat": 4,
 "nbformat_minor": 2
}
